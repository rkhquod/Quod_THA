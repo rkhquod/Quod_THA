{
 "cells": [
  {
   "cell_type": "code",
   "metadata": {
    "collapsed": true
   },
   "source": [
    "import os\n",
    "\n",
    "import matplotlib.pyplot as plt\n",
    "import pandas as pd\n",
    "import seaborn as sns"
   ],
   "outputs": [],
   "execution_count": null
  },
  {
   "cell_type": "markdown",
   "source": [
    "Define paths"
   ],
   "metadata": {
    "collapsed": false
   }
  },
  {
   "cell_type": "code",
   "source": [
    "DATASET_DIR = 'dataset'\n",
    "\n",
    "data_1_filename = 'transactions_1.csv'\n",
    "data_2_filename = 'transactions_2.csv'\n",
    "\n",
    "data_1_filepath = os.path.join('..', DATASET_DIR, data_1_filename)\n",
    "data_2_filepath = os.path.join('..', DATASET_DIR, data_2_filename)"
   ],
   "metadata": {
    "collapsed": false
   },
   "outputs": [],
   "execution_count": null
  },
  {
   "cell_type": "markdown",
   "source": [
    "Load data"
   ],
   "metadata": {
    "collapsed": false
   }
  },
  {
   "cell_type": "code",
   "source": [
    "df_data_1 = pd.read_csv(data_1_filepath, index_col=0)\n",
    "df_data_2 = pd.read_csv(data_2_filepath, index_col=0)"
   ],
   "metadata": {
    "collapsed": false
   },
   "outputs": [],
   "execution_count": null
  },
  {
   "cell_type": "markdown",
   "source": "# General data overview",
   "metadata": {
    "collapsed": false
   }
  },
  {
   "metadata": {},
   "cell_type": "markdown",
   "source": "## Data separately"
  },
  {
   "cell_type": "code",
   "source": [
    "df_data_1.head()"
   ],
   "metadata": {
    "collapsed": false
   },
   "outputs": [],
   "execution_count": null
  },
  {
   "cell_type": "code",
   "source": [
    "df_data_1.shape"
   ],
   "metadata": {
    "collapsed": false
   },
   "outputs": [],
   "execution_count": null
  },
  {
   "cell_type": "code",
   "source": [
    "df_data_2.head()"
   ],
   "metadata": {
    "collapsed": false
   },
   "outputs": [],
   "execution_count": null
  },
  {
   "cell_type": "code",
   "source": [
    "df_data_2.shape"
   ],
   "metadata": {
    "collapsed": false
   },
   "outputs": [],
   "execution_count": null
  },
  {
   "cell_type": "code",
   "source": [
    "df_data_1[\"date\"] = pd.to_datetime(df_data_1[\"date\"])\n",
    "df_data_2[\"date\"] = pd.to_datetime(df_data_2[\"date\"])"
   ],
   "metadata": {
    "collapsed": false
   },
   "outputs": [],
   "execution_count": null
  },
  {
   "cell_type": "code",
   "source": [
    "df_data_1['date'].max(), df_data_2['date'].min()"
   ],
   "metadata": {
    "collapsed": false
   },
   "outputs": [],
   "execution_count": null
  },
  {
   "cell_type": "code",
   "source": [
    "plt.hist(\n",
    "    [df_data_1['date'], df_data_2['date']],\n",
    "    bins=20,\n",
    "    stacked=True,\n",
    "    label=[data_1_filename, data_2_filename],\n",
    "    color=['blue', 'orange']\n",
    ")\n",
    "plt.legend()\n",
    "plt.xticks(rotation=90)"
   ],
   "metadata": {
    "collapsed": false
   },
   "outputs": [],
   "execution_count": null
  },
  {
   "metadata": {},
   "cell_type": "code",
   "source": "df_data_1[\"customer_id\"].value_counts()",
   "outputs": [],
   "execution_count": null
  },
  {
   "metadata": {},
   "cell_type": "code",
   "source": "df_data_2[\"customer_id\"].value_counts()",
   "outputs": [],
   "execution_count": null
  },
  {
   "metadata": {},
   "cell_type": "code",
   "source": "",
   "outputs": [],
   "execution_count": null
  },
  {
   "metadata": {},
   "cell_type": "markdown",
   "source": "## Data merged"
  },
  {
   "metadata": {
    "collapsed": false
   },
   "cell_type": "code",
   "source": "df_data = pd.concat([df_data_1, df_data_2])",
   "outputs": [],
   "execution_count": null
  },
  {
   "metadata": {},
   "cell_type": "code",
   "source": "",
   "outputs": [],
   "execution_count": null
  },
  {
   "metadata": {},
   "cell_type": "code",
   "source": "df_data['product_id'].unique()",
   "outputs": [],
   "execution_count": null
  },
  {
   "metadata": {},
   "cell_type": "code",
   "source": "# There are two strange: 'Undefined' and 'Not a make'",
   "outputs": [],
   "execution_count": null
  },
  {
   "metadata": {},
   "cell_type": "code",
   "source": "df_data.describe(include='all')",
   "outputs": [],
   "execution_count": null
  },
  {
   "metadata": {
    "collapsed": false
   },
   "cell_type": "code",
   "source": "df_data.duplicated().sum() # I assume that duplicates are not a mistake, but that a given customer bought several cars",
   "outputs": [],
   "execution_count": null
  },
  {
   "cell_type": "code",
   "source": [
    "df_data['date'].min(), df_data['date'].max()"
   ],
   "metadata": {
    "collapsed": false
   },
   "outputs": [],
   "execution_count": null
  },
  {
   "cell_type": "code",
   "source": [
    "df_data['customer_id'].unique()"
   ],
   "metadata": {
    "collapsed": false
   },
   "outputs": [],
   "execution_count": null
  },
  {
   "cell_type": "code",
   "source": [
    "df_data['customer_id'].unique().min(), df_data['customer_id'].unique().max()"
   ],
   "metadata": {
    "collapsed": false
   },
   "outputs": [],
   "execution_count": null
  },
  {
   "metadata": {},
   "cell_type": "code",
   "source": "",
   "outputs": [],
   "execution_count": null
  },
  {
   "metadata": {},
   "cell_type": "code",
   "source": "",
   "outputs": [],
   "execution_count": null
  },
  {
   "metadata": {},
   "cell_type": "code",
   "source": "",
   "outputs": [],
   "execution_count": null
  },
  {
   "metadata": {},
   "cell_type": "code",
   "source": "",
   "outputs": [],
   "execution_count": null
  },
  {
   "metadata": {},
   "cell_type": "code",
   "source": "",
   "outputs": [],
   "execution_count": null
  },
  {
   "metadata": {},
   "cell_type": "code",
   "source": [
    "df_data['year'] = df_data['date'].dt.year\n",
    "df_data['month'] = df_data['date'].dt.month\n",
    "df_data['day_of_week'] = df_data['date'].dt.dayofweek"
   ],
   "outputs": [],
   "execution_count": null
  },
  {
   "metadata": {},
   "cell_type": "markdown",
   "source": "Distribution of number of transactions per customer"
  },
  {
   "metadata": {},
   "cell_type": "code",
   "source": [
    "# In[4]:\n",
    "transactions_per_customer = df_data.groupby('customer_id')['product_id'].count().reset_index()\n",
    "transactions_per_customer.columns = ['customer_id', 'transaction_count']\n",
    "\n",
    "transactions_per_customer.sort_values('transaction_count', ascending=False, inplace=True)\n",
    "\n",
    "top_n = 20\n",
    "sns.barplot(\n",
    "    data=transactions_per_customer.head(top_n),\n",
    "    x='customer_id', y='transaction_count',\n",
    "    order=transactions_per_customer.head(top_n)['customer_id']\n",
    ")\n",
    "plt.xticks(rotation=45)\n",
    "plt.show()"
   ],
   "outputs": [],
   "execution_count": null
  },
  {
   "metadata": {},
   "cell_type": "code",
   "source": "",
   "outputs": [],
   "execution_count": null
  },
  {
   "metadata": {},
   "cell_type": "markdown",
   "source": "transactions per product"
  },
  {
   "metadata": {},
   "cell_type": "code",
   "source": [
    "# In[5]:\n",
    "transactions_per_product = df_data.groupby('product_id')['customer_id'].count().reset_index()\n",
    "transactions_per_product.columns = ['product_id', 'transaction_count']\n",
    "\n",
    "transactions_per_product.sort_values('transaction_count', ascending=False, inplace=True)\n",
    "\n",
    "top_n = 10\n",
    "plt.figure(figsize=(10, 6))\n",
    "sns.barplot(\n",
    "    data=transactions_per_product.head(top_n),\n",
    "    y='product_id', x='transaction_count',\n",
    "    order=transactions_per_product.head(top_n)['product_id']\n",
    ")\n",
    "plt.show()"
   ],
   "outputs": [],
   "execution_count": null
  },
  {
   "metadata": {},
   "cell_type": "code",
   "source": "",
   "outputs": [],
   "execution_count": null
  },
  {
   "metadata": {},
   "cell_type": "markdown",
   "source": "transactions per month"
  },
  {
   "metadata": {},
   "cell_type": "code",
   "source": [
    "monthly_transactions = df_data.groupby([df_data['date'].dt.year, df_data['date'].dt.month])['customer_id'].count().reset_index()\n",
    "monthly_transactions.columns = ['year', 'month', 'transaction_count']\n",
    "\n",
    "monthly_transactions['year_month'] = monthly_transactions['year'].astype(str) + '-' + monthly_transactions['month'].astype(str)\n",
    "\n",
    "plt.figure(figsize=(12, 6))\n",
    "sns.lineplot(data=monthly_transactions, x='year_month', y='transaction_count', marker='o')\n",
    "plt.xticks(rotation=45)\n",
    "plt.show()\n"
   ],
   "outputs": [],
   "execution_count": null
  },
  {
   "metadata": {},
   "cell_type": "code",
   "source": "",
   "outputs": [],
   "execution_count": null
  },
  {
   "metadata": {},
   "cell_type": "markdown",
   "source": "Transactions of a specific product in given year"
  },
  {
   "metadata": {},
   "cell_type": "code",
   "source": "CHOSEN_YEAR = 2018",
   "outputs": [],
   "execution_count": null
  },
  {
   "metadata": {},
   "cell_type": "code",
   "source": "df_data_in_chosen_year = df_data[df_data['year'] == CHOSEN_YEAR]",
   "outputs": [],
   "execution_count": null
  },
  {
   "metadata": {},
   "cell_type": "code",
   "source": "df_data_in_chosen_year.value_counts()",
   "outputs": [],
   "execution_count": null
  },
  {
   "metadata": {},
   "cell_type": "code",
   "source": [
    "for product_of_interest in df_data['product_id'].unique():\n",
    "\n",
    "    product_in_chosen_year = df_data_in_chosen_year[df_data_in_chosen_year['product_id'] == product_of_interest]\n",
    "    monthly_product_in_chosen_year = product_in_chosen_year.groupby(product_in_chosen_year['date'].dt.month)['customer_id'].count().reset_index()\n",
    "    monthly_product_in_chosen_year.columns = ['month', 'transaction_count']\n",
    "\n",
    "    plt.figure(figsize=(8, 5))\n",
    "    sns.barplot(data=monthly_product_in_chosen_year, x='month', y='transaction_count')\n",
    "    plt.title(product_of_interest)\n",
    "    plt.show()\n"
   ],
   "outputs": [],
   "execution_count": null
  },
  {
   "cell_type": "code",
   "source": [],
   "metadata": {
    "collapsed": false
   },
   "outputs": [],
   "execution_count": null
  },
  {
   "metadata": {},
   "cell_type": "markdown",
   "source": "Seasonality analysis and time of week"
  },
  {
   "metadata": {},
   "cell_type": "code",
   "source": [
    "# In[13]:\n",
    "df_data['hour'] = df_data['date'].dt.hour\n",
    "\n",
    "dow_hour = df_data.groupby(['day_of_week', 'hour'])['customer_id'].count().reset_index()\n",
    "dow_hour_pivot = dow_hour.pivot(index='day_of_week', columns='hour', values='customer_id')\n",
    "\n",
    "sns.heatmap(dow_hour_pivot, cmap=\"YlGnBu\")\n",
    "plt.title(\"Rozkład liczby transakcji w zależności od dnia tygodnia i godziny\")\n",
    "plt.xlabel(\"Godzina\")\n",
    "plt.ylabel(\"Dzień tygodnia (0=Poniedziałek, 6=Niedziela)\")\n",
    "plt.show()\n"
   ],
   "outputs": [],
   "execution_count": null
  },
  {
   "metadata": {},
   "cell_type": "code",
   "source": "",
   "outputs": [],
   "execution_count": null
  },
  {
   "cell_type": "markdown",
   "source": "# Solve tasks",
   "metadata": {
    "collapsed": false
   }
  },
  {
   "metadata": {},
   "cell_type": "markdown",
   "source": "## task 1"
  },
  {
   "cell_type": "markdown",
   "source": [
    "task 1: `Create an ordered (descending) plot that shows the total number of transactions per customer from the most active customer to the least active one.`"
   ],
   "metadata": {
    "collapsed": false
   }
  },
  {
   "cell_type": "code",
   "source": [
    "df_transactions_per_customer = df_data.groupby(\"customer_id\").size().reset_index(name=\"transaction_count\")\n",
    "df_transactions_per_customer.sort_values(by=\"transaction_count\", ascending=False, inplace=True)"
   ],
   "metadata": {
    "collapsed": false
   },
   "outputs": [],
   "execution_count": null
  },
  {
   "cell_type": "code",
   "source": [
    "plt.bar(df_transactions_per_customer[\"customer_id\"].astype(str), df_transactions_per_customer[\"transaction_count\"])"
   ],
   "metadata": {
    "collapsed": false
   },
   "outputs": [],
   "execution_count": null
  },
  {
   "cell_type": "code",
   "source": [],
   "metadata": {
    "collapsed": false
   },
   "outputs": [],
   "execution_count": null
  },
  {
   "metadata": {},
   "cell_type": "markdown",
   "source": "## task 2"
  },
  {
   "cell_type": "markdown",
   "source": [
    "task 2: `Given any product ID, create a plot to show its transaction frequency per month for the year 2018.`"
   ],
   "metadata": {
    "collapsed": false
   }
  },
  {
   "cell_type": "code",
   "source": [
    "df_data_2018 = df_data[df_data[\"date\"].dt.year == 2018]"
   ],
   "metadata": {
    "collapsed": false
   },
   "outputs": [],
   "execution_count": null
  },
  {
   "cell_type": "code",
   "source": [
    "df_data['product_id'].unique().tolist()"
   ],
   "metadata": {
    "collapsed": false
   },
   "outputs": [],
   "execution_count": null
  },
  {
   "cell_type": "code",
   "source": [
    "product_id = \"Opel\""
   ],
   "metadata": {
    "collapsed": false
   },
   "outputs": [],
   "execution_count": null
  },
  {
   "cell_type": "code",
   "source": [
    "product_data = df_data_2018[df_data_2018[\"product_id\"] == product_id]\n",
    "\n",
    "product_data[\"year_month\"] = product_data[\"date\"].dt.to_period(\"M\")\n",
    "monthly_transactions = product_data.groupby(\"year_month\").size().reset_index(name=\"transaction_count\")\n",
    "\n",
    "plt.plot(monthly_transactions[\"year_month\"].astype(str), monthly_transactions[\"transaction_count\"], marker=\"o\", color=\"skyblue\")"
   ],
   "metadata": {
    "collapsed": false
   },
   "outputs": [],
   "execution_count": null
  },
  {
   "cell_type": "code",
   "source": [],
   "metadata": {
    "collapsed": false
   },
   "outputs": [],
   "execution_count": null
  },
  {
   "metadata": {},
   "cell_type": "markdown",
   "source": "## task 4"
  },
  {
   "cell_type": "markdown",
   "source": [
    "task 4: `At any time, what are the top 5 products that drove the highest sales over the last six months? Do you see a seasonality effect in this data set?`"
   ],
   "metadata": {
    "collapsed": false
   }
  },
  {
   "cell_type": "code",
   "source": [
    "chosen_date = '2019-01-01'"
   ],
   "metadata": {
    "collapsed": false
   },
   "outputs": [],
   "execution_count": null
  },
  {
   "cell_type": "code",
   "source": [
    "chosen_date = pd.Timestamp(chosen_date).tz_localize('UTC')\n",
    "\n",
    "six_months_earlier = chosen_date - pd.DateOffset(months=6)\n",
    "df_data_last_six_months = df_data[(df_data[\"date\"] >= six_months_earlier) & (df_data[\"date\"] <= chosen_date)]\n",
    "\n",
    "product_sales = df_data_last_six_months.groupby(\"product_id\").size().reset_index(name=\"transaction_count\")\n",
    "top_products = product_sales.sort_values(by=\"transaction_count\", ascending=False).head(5)"
   ],
   "metadata": {
    "collapsed": false
   },
   "outputs": [],
   "execution_count": null
  },
  {
   "cell_type": "code",
   "source": [
    "plt.bar(top_products[\"product_id\"], top_products[\"transaction_count\"], color=\"skyblue\")"
   ],
   "metadata": {
    "collapsed": false
   },
   "outputs": [],
   "execution_count": null
  },
  {
   "cell_type": "code",
   "source": [],
   "metadata": {
    "collapsed": false
   },
   "outputs": [],
   "execution_count": null
  }
 ],
 "metadata": {
  "kernelspec": {
   "display_name": "Python 3",
   "language": "python",
   "name": "python3"
  },
  "language_info": {
   "codemirror_mode": {
    "name": "ipython",
    "version": 2
   },
   "file_extension": ".py",
   "mimetype": "text/x-python",
   "name": "python",
   "nbconvert_exporter": "python",
   "pygments_lexer": "ipython2",
   "version": "2.7.6"
  }
 },
 "nbformat": 4,
 "nbformat_minor": 0
}
