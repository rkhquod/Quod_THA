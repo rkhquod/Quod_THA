{
 "cells": [
  {
   "cell_type": "code",
   "execution_count": null,
   "metadata": {
    "collapsed": true
   },
   "outputs": [],
   "source": [
    "import os\n",
    "\n",
    "import matplotlib.pyplot as plt\n",
    "import pandas as pd"
   ]
  },
  {
   "cell_type": "markdown",
   "source": [
    "Define paths"
   ],
   "metadata": {
    "collapsed": false
   }
  },
  {
   "cell_type": "code",
   "execution_count": null,
   "outputs": [],
   "source": [
    "DATASET_DIR = 'dataset'\n",
    "\n",
    "data_1_filename = 'transactions_1.csv'\n",
    "data_2_filename = 'transactions_2.csv'\n",
    "\n",
    "data_1_filepath = os.path.join('..', DATASET_DIR, data_1_filename)\n",
    "data_2_filepath = os.path.join('..', DATASET_DIR, data_2_filename)"
   ],
   "metadata": {
    "collapsed": false
   }
  },
  {
   "cell_type": "markdown",
   "source": [
    "Load data"
   ],
   "metadata": {
    "collapsed": false
   }
  },
  {
   "cell_type": "code",
   "execution_count": null,
   "outputs": [],
   "source": [
    "df_data_1 = pd.read_csv(data_1_filepath, index_col=0)\n",
    "df_data_2 = pd.read_csv(data_2_filepath, index_col=0)"
   ],
   "metadata": {
    "collapsed": false
   }
  },
  {
   "cell_type": "markdown",
   "source": [
    "General data overview"
   ],
   "metadata": {
    "collapsed": false
   }
  },
  {
   "cell_type": "code",
   "execution_count": null,
   "outputs": [],
   "source": [
    "df_data_1.head()"
   ],
   "metadata": {
    "collapsed": false
   }
  },
  {
   "cell_type": "code",
   "execution_count": null,
   "outputs": [],
   "source": [
    "df_data_1.shape"
   ],
   "metadata": {
    "collapsed": false
   }
  },
  {
   "cell_type": "code",
   "execution_count": null,
   "outputs": [],
   "source": [
    "df_data_2.head()"
   ],
   "metadata": {
    "collapsed": false
   }
  },
  {
   "cell_type": "code",
   "execution_count": null,
   "outputs": [],
   "source": [
    "df_data_2.shape"
   ],
   "metadata": {
    "collapsed": false
   }
  },
  {
   "cell_type": "code",
   "execution_count": null,
   "outputs": [],
   "source": [
    "df_data_1[\"date\"] = pd.to_datetime(df_data_1[\"date\"])\n",
    "df_data_2[\"date\"] = pd.to_datetime(df_data_2[\"date\"])"
   ],
   "metadata": {
    "collapsed": false
   }
  },
  {
   "cell_type": "code",
   "execution_count": null,
   "outputs": [],
   "source": [
    "df_data_1['date'].max(), df_data_2['date'].min()"
   ],
   "metadata": {
    "collapsed": false
   }
  },
  {
   "cell_type": "code",
   "execution_count": null,
   "outputs": [],
   "source": [
    "plt.hist(\n",
    "    [df_data_1['date'], df_data_2['date']],\n",
    "    bins=20,\n",
    "    stacked=True,\n",
    "    label=[data_1_filename, data_2_filename],\n",
    "    color=['blue', 'orange']\n",
    ")\n",
    "plt.legend()\n",
    "plt.xticks(rotation=90)"
   ],
   "metadata": {
    "collapsed": false
   }
  },
  {
   "cell_type": "code",
   "execution_count": null,
   "outputs": [],
   "source": [
    "df_data = pd.concat([df_data_1, df_data_2])"
   ],
   "metadata": {
    "collapsed": false
   }
  },
  {
   "cell_type": "code",
   "execution_count": null,
   "outputs": [],
   "source": [
    "df_data.duplicated().sum() # I assume that duplicates are not a mistake, but that a given customer bought several cars"
   ],
   "metadata": {
    "collapsed": false
   }
  },
  {
   "cell_type": "code",
   "execution_count": null,
   "outputs": [],
   "source": [
    "df_data['date'].min(), df_data['date'].max()"
   ],
   "metadata": {
    "collapsed": false
   }
  },
  {
   "cell_type": "code",
   "execution_count": null,
   "outputs": [],
   "source": [
    "df_data['customer_id'].unique()"
   ],
   "metadata": {
    "collapsed": false
   }
  },
  {
   "cell_type": "code",
   "execution_count": null,
   "outputs": [],
   "source": [
    "df_data['customer_id'].unique().min(), df_data['customer_id'].unique().max()"
   ],
   "metadata": {
    "collapsed": false
   }
  },
  {
   "cell_type": "code",
   "execution_count": null,
   "outputs": [],
   "source": [],
   "metadata": {
    "collapsed": false
   }
  },
  {
   "cell_type": "markdown",
   "source": [
    "### Solve tasks"
   ],
   "metadata": {
    "collapsed": false
   }
  },
  {
   "cell_type": "markdown",
   "source": [
    "task 1: `Create an ordered (descending) plot that shows the total number of transactions per customer from the most active customer to the least active one.`"
   ],
   "metadata": {
    "collapsed": false
   }
  },
  {
   "cell_type": "code",
   "execution_count": null,
   "outputs": [],
   "source": [
    "df_transactions_per_customer = df_data.groupby(\"customer_id\").size().reset_index(name=\"transaction_count\")\n",
    "df_transactions_per_customer.sort_values(by=\"transaction_count\", ascending=False, inplace=True)"
   ],
   "metadata": {
    "collapsed": false
   }
  },
  {
   "cell_type": "code",
   "execution_count": null,
   "outputs": [],
   "source": [
    "plt.bar(df_transactions_per_customer[\"customer_id\"].astype(str), df_transactions_per_customer[\"transaction_count\"])"
   ],
   "metadata": {
    "collapsed": false
   }
  },
  {
   "cell_type": "code",
   "execution_count": null,
   "outputs": [],
   "source": [],
   "metadata": {
    "collapsed": false
   }
  },
  {
   "cell_type": "markdown",
   "source": [
    "task 2: `Given any product ID, create a plot to show its transaction frequency per month for the year 2018.`"
   ],
   "metadata": {
    "collapsed": false
   }
  },
  {
   "cell_type": "code",
   "execution_count": null,
   "outputs": [],
   "source": [
    "df_data_2018 = df_data[df_data[\"date\"].dt.year == 2018]"
   ],
   "metadata": {
    "collapsed": false
   }
  },
  {
   "cell_type": "code",
   "execution_count": null,
   "outputs": [],
   "source": [
    "df_data['product_id'].unique().tolist()"
   ],
   "metadata": {
    "collapsed": false
   }
  },
  {
   "cell_type": "code",
   "execution_count": null,
   "outputs": [],
   "source": [
    "product_id = \"Opel\""
   ],
   "metadata": {
    "collapsed": false
   }
  },
  {
   "cell_type": "code",
   "execution_count": null,
   "outputs": [],
   "source": [
    "product_data = df_data_2018[df_data_2018[\"product_id\"] == product_id]\n",
    "\n",
    "product_data[\"year_month\"] = product_data[\"date\"].dt.to_period(\"M\")\n",
    "monthly_transactions = product_data.groupby(\"year_month\").size().reset_index(name=\"transaction_count\")\n",
    "\n",
    "plt.plot(monthly_transactions[\"year_month\"].astype(str), monthly_transactions[\"transaction_count\"], marker=\"o\", color=\"skyblue\")"
   ],
   "metadata": {
    "collapsed": false
   }
  },
  {
   "cell_type": "code",
   "execution_count": null,
   "outputs": [],
   "source": [],
   "metadata": {
    "collapsed": false
   }
  },
  {
   "cell_type": "markdown",
   "source": [
    "task 4: `At any time, what are the top 5 products that drove the highest sales over the last six months? Do you see a seasonality effect in this data set?`"
   ],
   "metadata": {
    "collapsed": false
   }
  },
  {
   "cell_type": "code",
   "execution_count": null,
   "outputs": [],
   "source": [
    "chosen_date = '2019-01-01'"
   ],
   "metadata": {
    "collapsed": false
   }
  },
  {
   "cell_type": "code",
   "execution_count": null,
   "outputs": [],
   "source": [
    "chosen_date = pd.Timestamp(chosen_date).tz_localize('UTC')\n",
    "\n",
    "six_months_earlier = chosen_date - pd.DateOffset(months=6)\n",
    "df_data_last_six_months = df_data[(df_data[\"date\"] >= six_months_earlier) & (df_data[\"date\"] <= chosen_date)]\n",
    "\n",
    "product_sales = df_data_last_six_months.groupby(\"product_id\").size().reset_index(name=\"transaction_count\")\n",
    "top_products = product_sales.sort_values(by=\"transaction_count\", ascending=False).head(5)"
   ],
   "metadata": {
    "collapsed": false
   }
  },
  {
   "cell_type": "code",
   "execution_count": null,
   "outputs": [],
   "source": [
    "plt.bar(top_products[\"product_id\"], top_products[\"transaction_count\"], color=\"skyblue\")"
   ],
   "metadata": {
    "collapsed": false
   }
  },
  {
   "cell_type": "code",
   "execution_count": null,
   "outputs": [],
   "source": [],
   "metadata": {
    "collapsed": false
   }
  }
 ],
 "metadata": {
  "kernelspec": {
   "display_name": "Python 3",
   "language": "python",
   "name": "python3"
  },
  "language_info": {
   "codemirror_mode": {
    "name": "ipython",
    "version": 2
   },
   "file_extension": ".py",
   "mimetype": "text/x-python",
   "name": "python",
   "nbconvert_exporter": "python",
   "pygments_lexer": "ipython2",
   "version": "2.7.6"
  }
 },
 "nbformat": 4,
 "nbformat_minor": 0
}
